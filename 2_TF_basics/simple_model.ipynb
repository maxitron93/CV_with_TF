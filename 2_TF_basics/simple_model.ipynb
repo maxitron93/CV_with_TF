{
 "cells": [
  {
   "cell_type": "code",
   "execution_count": 1,
   "metadata": {},
   "outputs": [],
   "source": [
    "# Import the libraries\n",
    "import tensorflow as tf\n",
    "from tensorflow.keras.models import Model\n",
    "from tensorflow.keras.layers import Input, Flatten, Dense\n",
    "from tensorflow.keras.optimizers import Adam \n",
    "import matplotlib.pyplot as plt"
   ]
  },
  {
   "cell_type": "code",
   "execution_count": 2,
   "metadata": {},
   "outputs": [],
   "source": [
    "# Define the number of classes and size of each image\n",
    "num_classes = 10\n",
    "img_rows, img_cols = 28, 28\n",
    "num_channels = 1\n",
    "input_shape = (img_rows, img_cols, num_channels)"
   ]
  },
  {
   "cell_type": "code",
   "execution_count": 3,
   "metadata": {},
   "outputs": [],
   "source": [
    "# Import the data and make the training and test sets\n",
    "(X_train, y_train),(X_test, y_test) = tf.keras.datasets.mnist.load_data()\n",
    "\n",
    "# Normalize the data to be in the rage of [0,1] instead of [0, 255]\n",
    "X_train, X_test = X_train / 255.0, X_test / 255.0"
   ]
  },
  {
   "cell_type": "code",
   "execution_count": 4,
   "metadata": {},
   "outputs": [],
   "source": [
    "# Define the layers of the model\n",
    "i = Input(shape=(img_rows, img_cols))\n",
    "x = Flatten()(i)\n",
    "x = Dense(126, activation='relu')(x)\n",
    "x = Dense(10, activation='sigmoid')(x)"
   ]
  },
  {
   "cell_type": "code",
   "execution_count": 5,
   "metadata": {},
   "outputs": [],
   "source": [
    "# Build the model\n",
    "model = Model(i, x)"
   ]
  },
  {
   "cell_type": "code",
   "execution_count": 6,
   "metadata": {},
   "outputs": [],
   "source": [
    "# Define how the model will be trained\n",
    "model.compile(optimizer=Adam(lr=0.0001), loss='sparse_categorical_crossentropy', metrics=['accuracy'])"
   ]
  },
  {
   "cell_type": "markdown",
   "metadata": {},
   "source": [
    "Note: The Keras loss named sparse_categorical_crossentropy performs the same cross-entropy operation as categorical_crossentropy, but the former directly takes the ground truth labels as inputs, while the latter requires the ground truth labels to be one-hot encoded already before hand. Using the sparse_... loss thus saves us from manually having to transform the labels."
   ]
  },
  {
   "cell_type": "code",
   "execution_count": 7,
   "metadata": {
    "scrolled": true
   },
   "outputs": [
    {
     "name": "stdout",
     "output_type": "stream",
     "text": [
      "Train on 60000 samples, validate on 10000 samples\n",
      "Epoch 1/30\n",
      "60000/60000 [==============================] - 4s 69us/sample - loss: 0.6610 - accuracy: 0.8481 - val_loss: 0.3184 - val_accuracy: 0.9155\n",
      "Epoch 2/30\n",
      "60000/60000 [==============================] - 4s 59us/sample - loss: 0.2926 - accuracy: 0.9212 - val_loss: 0.2526 - val_accuracy: 0.9293\n",
      "Epoch 3/30\n",
      "60000/60000 [==============================] - 4s 60us/sample - loss: 0.2425 - accuracy: 0.9343 - val_loss: 0.2222 - val_accuracy: 0.9368\n",
      "Epoch 4/30\n",
      "60000/60000 [==============================] - 4s 58us/sample - loss: 0.2117 - accuracy: 0.9422 - val_loss: 0.1957 - val_accuracy: 0.9435\n",
      "Epoch 5/30\n",
      "60000/60000 [==============================] - 3s 57us/sample - loss: 0.1890 - accuracy: 0.9481 - val_loss: 0.1800 - val_accuracy: 0.9472\n",
      "Epoch 6/30\n",
      "60000/60000 [==============================] - 3s 58us/sample - loss: 0.1715 - accuracy: 0.9532 - val_loss: 0.1660 - val_accuracy: 0.9512\n",
      "Epoch 7/30\n",
      "60000/60000 [==============================] - 4s 59us/sample - loss: 0.1570 - accuracy: 0.9564 - val_loss: 0.1552 - val_accuracy: 0.9544\n",
      "Epoch 8/30\n",
      "60000/60000 [==============================] - 4s 59us/sample - loss: 0.1446 - accuracy: 0.9602 - val_loss: 0.1459 - val_accuracy: 0.9585\n",
      "Epoch 9/30\n",
      "60000/60000 [==============================] - 4s 60us/sample - loss: 0.1342 - accuracy: 0.9629 - val_loss: 0.1371 - val_accuracy: 0.9600\n",
      "Epoch 10/30\n",
      "60000/60000 [==============================] - 4s 60us/sample - loss: 0.1251 - accuracy: 0.9654 - val_loss: 0.1325 - val_accuracy: 0.9611\n",
      "Epoch 11/30\n",
      "60000/60000 [==============================] - 4s 63us/sample - loss: 0.1168 - accuracy: 0.9678 - val_loss: 0.1250 - val_accuracy: 0.9628\n",
      "Epoch 12/30\n",
      "60000/60000 [==============================] - 4s 61us/sample - loss: 0.1098 - accuracy: 0.9698 - val_loss: 0.1194 - val_accuracy: 0.9646\n",
      "Epoch 13/30\n",
      "60000/60000 [==============================] - 4s 59us/sample - loss: 0.1033 - accuracy: 0.9716 - val_loss: 0.1140 - val_accuracy: 0.9665\n",
      "Epoch 14/30\n",
      "60000/60000 [==============================] - 5s 76us/sample - loss: 0.0977 - accuracy: 0.9735 - val_loss: 0.1128 - val_accuracy: 0.9671\n",
      "Epoch 15/30\n",
      "60000/60000 [==============================] - 5s 80us/sample - loss: 0.0927 - accuracy: 0.9747 - val_loss: 0.1070 - val_accuracy: 0.9682\n",
      "Epoch 16/30\n",
      "60000/60000 [==============================] - 5s 81us/sample - loss: 0.0876 - accuracy: 0.9762 - val_loss: 0.1051 - val_accuracy: 0.9677\n",
      "Epoch 17/30\n",
      "60000/60000 [==============================] - 4s 74us/sample - loss: 0.0832 - accuracy: 0.9776 - val_loss: 0.1009 - val_accuracy: 0.9700\n",
      "Epoch 18/30\n",
      "60000/60000 [==============================] - 5s 78us/sample - loss: 0.0790 - accuracy: 0.9788 - val_loss: 0.0989 - val_accuracy: 0.9692\n",
      "Epoch 19/30\n",
      "60000/60000 [==============================] - 4s 74us/sample - loss: 0.0752 - accuracy: 0.9798 - val_loss: 0.0967 - val_accuracy: 0.9703\n",
      "Epoch 20/30\n",
      "60000/60000 [==============================] - 4s 70us/sample - loss: 0.0717 - accuracy: 0.9808 - val_loss: 0.0961 - val_accuracy: 0.9709\n",
      "Epoch 21/30\n",
      "60000/60000 [==============================] - 5s 76us/sample - loss: 0.0685 - accuracy: 0.9819 - val_loss: 0.0944 - val_accuracy: 0.9710\n",
      "Epoch 22/30\n",
      "60000/60000 [==============================] - 4s 71us/sample - loss: 0.0654 - accuracy: 0.9826 - val_loss: 0.0920 - val_accuracy: 0.9709\n",
      "Epoch 23/30\n",
      "60000/60000 [==============================] - 4s 73us/sample - loss: 0.0627 - accuracy: 0.9835 - val_loss: 0.0892 - val_accuracy: 0.9735\n",
      "Epoch 24/30\n",
      "60000/60000 [==============================] - 5s 75us/sample - loss: 0.0599 - accuracy: 0.9844 - val_loss: 0.0892 - val_accuracy: 0.9726\n",
      "Epoch 25/30\n",
      "60000/60000 [==============================] - 4s 72us/sample - loss: 0.0576 - accuracy: 0.9851 - val_loss: 0.0865 - val_accuracy: 0.9740\n",
      "Epoch 26/30\n",
      "60000/60000 [==============================] - 5s 75us/sample - loss: 0.0553 - accuracy: 0.9851 - val_loss: 0.0862 - val_accuracy: 0.9738\n",
      "Epoch 27/30\n",
      "60000/60000 [==============================] - 5s 78us/sample - loss: 0.0529 - accuracy: 0.9864 - val_loss: 0.0852 - val_accuracy: 0.9734\n",
      "Epoch 28/30\n",
      "60000/60000 [==============================] - 5s 79us/sample - loss: 0.0509 - accuracy: 0.9871 - val_loss: 0.0854 - val_accuracy: 0.9740\n",
      "Epoch 29/30\n",
      "60000/60000 [==============================] - 5s 76us/sample - loss: 0.0489 - accuracy: 0.9876 - val_loss: 0.0834 - val_accuracy: 0.9750\n",
      "Epoch 30/30\n",
      "60000/60000 [==============================] - 5s 79us/sample - loss: 0.0467 - accuracy: 0.9882 - val_loss: 0.0828 - val_accuracy: 0.9746\n"
     ]
    }
   ],
   "source": [
    "# Train the model\n",
    "result = model.fit(x=X_train, y=y_train, \n",
    "                   epochs = 40, \n",
    "                   validation_data=(X_test, y_test))"
   ]
  },
  {
   "cell_type": "code",
   "execution_count": 8,
   "metadata": {},
   "outputs": [
    {
     "data": {
      "image/png": "[encoded data removed]",
      "text/plain": [
       "<Figure size 432x288 with 1 Axes>"
      ]
     },
     "metadata": {
      "needs_background": "light"
     },
     "output_type": "display_data"
    }
   ],
   "source": [
    "# Plot the cost function at each itteration\n",
    "plt.plot(result.history['accuracy'], label='accuracy');\n",
    "plt.plot(result.history['val_accuracy'], label='val_accuracy');\n",
    "plt.legend();"
   ]
  },
  {
   "cell_type": "markdown",
   "metadata": {},
   "source": [
    "We achieve an accuracy of about 97.5%. State-of-the-art algorithms attain 99.79% accuracy."
   ]
  },
  {
   "cell_type": "markdown",
   "metadata": {},
   "source": [
    "### Try with an Estimator"
   ]
  },
  {
   "cell_type": "code",
   "execution_count": 17,
   "metadata": {},
   "outputs": [
    {
     "name": "stdout",
     "output_type": "stream",
     "text": [
      "INFO:tensorflow:Using default config.\n",
      "INFO:tensorflow:Using the Keras model provided.\n",
      "INFO:tensorflow:Using config: {'_model_dir': 'estimator_dir', '_tf_random_seed': None, '_save_summary_steps': 100, '_save_checkpoints_steps': None, '_save_checkpoints_secs': 600, '_session_config': allow_soft_placement: true\n",
      "graph_options {\n",
      "  rewrite_options {\n",
      "    meta_optimizer_iterations: ONE\n",
      "  }\n",
      "}\n",
      ", '_keep_checkpoint_max': 5, '_keep_checkpoint_every_n_hours': 10000, '_log_step_count_steps': 100, '_train_distribute': None, '_device_fn': None, '_protocol': None, '_eval_distribute': None, '_experimental_distribute': None, '_experimental_max_worker_delay_secs': None, '_session_creation_timeout_secs': 7200, '_service': None, '_cluster_spec': <tensorflow.python.training.server_lib.ClusterSpec object at 0x00000161034F9508>, '_task_type': 'worker', '_task_id': 0, '_global_id_in_cluster': 0, '_master': '', '_evaluation_master': '', '_is_chief': True, '_num_ps_replicas': 0, '_num_worker_replicas': 1}\n"
     ]
    }
   ],
   "source": [
    "# Create the Estimator\n",
    "estimator = tf.keras.estimator.model_to_estimator(model, model_dir='estimator_dir')"
   ]
  },
  {
   "cell_type": "code",
   "execution_count": 18,
   "metadata": {},
   "outputs": [],
   "source": [
    "# Create the dataset in the right format for the Estimator\n",
    "BATCH_SIZE = 32\n",
    "def train_input_fn():\n",
    "    train_dataset = tf.data.Dataset.from_tensor_slices((X_train, y_train))\n",
    "    train_dataset = train_dataset.batch(BATCH_SIZE).repeat()\n",
    "    return train_dataset"
   ]
  },
  {
   "cell_type": "code",
   "execution_count": 20,
   "metadata": {
    "scrolled": true
   },
   "outputs": [
    {
     "name": "stdout",
     "output_type": "stream",
     "text": [
      "INFO:tensorflow:Calling model_fn.\n",
      "INFO:tensorflow:Done calling model_fn.\n",
      "INFO:tensorflow:Warm-starting with WarmStartSettings: WarmStartSettings(ckpt_to_initialize_from='estimator_dir\\\\keras\\\\keras_model.ckpt', vars_to_warm_start='.*', var_name_to_vocab_info={}, var_name_to_prev_var_name={})\n",
      "INFO:tensorflow:Warm-starting from: estimator_dir\\keras\\keras_model.ckpt\n",
      "INFO:tensorflow:Warm-starting variables only in TRAINABLE_VARIABLES.\n",
      "INFO:tensorflow:Warm-started 4 variables.\n",
      "INFO:tensorflow:Create CheckpointSaverHook.\n",
      "INFO:tensorflow:Graph was finalized.\n",
      "INFO:tensorflow:Restoring parameters from estimator_dir\\model.ckpt-0\n",
      "INFO:tensorflow:Running local_init_op.\n",
      "INFO:tensorflow:Done running local_init_op.\n",
      "INFO:tensorflow:Saving checkpoints for 0 into estimator_dir\\model.ckpt.\n",
      "INFO:tensorflow:loss = 0.028363302, step = 0\n",
      "INFO:tensorflow:global_step/sec: 117.107\n",
      "INFO:tensorflow:loss = 0.02342191, step = 100 (0.853 sec)\n",
      "INFO:tensorflow:global_step/sec: 853.722\n",
      "INFO:tensorflow:loss = 0.02863243, step = 200 (0.127 sec)\n",
      "INFO:tensorflow:global_step/sec: 764.297\n",
      "INFO:tensorflow:loss = 0.019585064, step = 300 (0.121 sec)\n",
      "INFO:tensorflow:global_step/sec: 768.005\n",
      "INFO:tensorflow:loss = 0.06447873, step = 400 (0.131 sec)\n",
      "INFO:tensorflow:global_step/sec: 650.074\n",
      "INFO:tensorflow:loss = 0.07959923, step = 500 (0.154 sec)\n",
      "INFO:tensorflow:global_step/sec: 797.624\n",
      "INFO:tensorflow:loss = 0.027565366, step = 600 (0.124 sec)\n",
      "INFO:tensorflow:global_step/sec: 828.118\n",
      "INFO:tensorflow:loss = 0.013058152, step = 700 (0.130 sec)\n",
      "INFO:tensorflow:global_step/sec: 736.9\n",
      "INFO:tensorflow:loss = 0.03604886, step = 800 (0.128 sec)\n",
      "INFO:tensorflow:global_step/sec: 804.771\n",
      "INFO:tensorflow:loss = 0.010342521, step = 900 (0.123 sec)\n",
      "INFO:tensorflow:global_step/sec: 801.469\n",
      "INFO:tensorflow:loss = 0.055898305, step = 1000 (0.126 sec)\n",
      "INFO:tensorflow:global_step/sec: 787.275\n",
      "INFO:tensorflow:loss = 0.05431885, step = 1100 (0.127 sec)\n",
      "INFO:tensorflow:global_step/sec: 844.169\n",
      "INFO:tensorflow:loss = 0.026316281, step = 1200 (0.117 sec)\n",
      "INFO:tensorflow:global_step/sec: 706.482\n",
      "INFO:tensorflow:loss = 0.060150202, step = 1300 (0.143 sec)\n",
      "INFO:tensorflow:global_step/sec: 735.783\n",
      "INFO:tensorflow:loss = 0.030428253, step = 1400 (0.136 sec)\n",
      "INFO:tensorflow:global_step/sec: 816.762\n",
      "INFO:tensorflow:loss = 0.016748685, step = 1500 (0.121 sec)\n",
      "INFO:tensorflow:global_step/sec: 834.098\n",
      "INFO:tensorflow:loss = 0.081921905, step = 1600 (0.120 sec)\n",
      "INFO:tensorflow:global_step/sec: 770.01\n",
      "INFO:tensorflow:loss = 0.024329057, step = 1700 (0.130 sec)\n",
      "INFO:tensorflow:global_step/sec: 767.559\n",
      "INFO:tensorflow:loss = 0.039953433, step = 1800 (0.130 sec)\n",
      "INFO:tensorflow:Saving checkpoints for 1875 into estimator_dir\\model.ckpt.\n",
      "INFO:tensorflow:Loss for final step: 0.016651044.\n"
     ]
    },
    {
     "data": {
      "text/plain": [
       "<tensorflow_estimator.python.estimator.estimator.EstimatorV2 at 0x16103527ac8>"
      ]
     },
     "execution_count": 20,
     "metadata": {},
     "output_type": "execute_result"
    }
   ],
   "source": [
    "# Train with the estimator\n",
    "estimator.train(train_input_fn, steps=len(X_train)//BATCH_SIZE)"
   ]
  },
  {
   "cell_type": "markdown",
   "metadata": {},
   "source": [
    "Not sure how to use this but it's not important for now. At least I got it to work :D"
   ]
  },
  {
   "cell_type": "code",
   "execution_count": null,
   "metadata": {},
   "outputs": [],
   "source": []
  },
  {
   "cell_type": "code",
   "execution_count": null,
   "metadata": {},
   "outputs": [],
   "source": []
  },
  {
   "cell_type": "code",
   "execution_count": null,
   "metadata": {},
   "outputs": [],
   "source": []
  }
 ],
 "metadata": {
  "kernelspec": {
   "display_name": "Python 3",
   "language": "python",
   "name": "python3"
  },
  "language_info": {
   "codemirror_mode": {
    "name": "ipython",
    "version": 3
   },
   "file_extension": ".py",
   "mimetype": "text/x-python",
   "name": "python",
   "nbconvert_exporter": "python",
   "pygments_lexer": "ipython3",
   "version": "3.7.4"
  }
 },
 "nbformat": 4,
 "nbformat_minor": 2
}
